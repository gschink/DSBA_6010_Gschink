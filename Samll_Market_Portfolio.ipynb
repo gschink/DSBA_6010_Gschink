{
  "nbformat": 4,
  "nbformat_minor": 0,
  "metadata": {
    "colab": {
      "name": "Samll_Market_Portfolio.ipynb",
      "provenance": [],
      "authorship_tag": "ABX9TyMTgHlpeGNPZ+6XX++coXGp",
      "include_colab_link": true
    },
    "kernelspec": {
      "name": "python3",
      "display_name": "Python 3"
    },
    "language_info": {
      "name": "python"
    }
  },
  "cells": [
    {
      "cell_type": "markdown",
      "metadata": {
        "id": "view-in-github",
        "colab_type": "text"
      },
      "source": [
        "<a href=\"https://colab.research.google.com/github/gschink/DSBA_6010_Gschink/blob/main/Samll_Market_Portfolio.ipynb\" target=\"_parent\"><img src=\"https://colab.research.google.com/assets/colab-badge.svg\" alt=\"Open In Colab\"/></a>"
      ]
    },
    {
      "cell_type": "markdown",
      "source": [
        "This notebook is all in working order. It is built from https://github.com/robertmartin8/PyPortfolioOpt/blob/master/cookbook/4-Black-Litterman-Allocation.ipynb. Additional assets and views need to be supplied.  "
      ],
      "metadata": {
        "id": "c7M9oF-SGAGV"
      }
    },
    {
      "cell_type": "code",
      "execution_count": 3,
      "metadata": {
        "colab": {
          "base_uri": "https://localhost:8080/"
        },
        "id": "n0MvV8i12Wnw",
        "outputId": "4e05682c-2003-463b-8f44-856001345e72"
      },
      "outputs": [
        {
          "output_type": "stream",
          "name": "stdout",
          "text": [
            "Collecting PyPortfolioOpt\n",
            "  Downloading pyportfolioopt-1.5.2-py3-none-any.whl (61 kB)\n",
            "\u001b[K     |████████████████████████████████| 61 kB 7.6 MB/s \n",
            "\u001b[?25hCollecting cvxpy<2.0.0,>=1.1.10\n",
            "  Downloading cvxpy-1.2.0-cp37-cp37m-manylinux_2_24_x86_64.whl (2.8 MB)\n",
            "\u001b[K     |████████████████████████████████| 2.8 MB 27.8 MB/s \n",
            "\u001b[?25hRequirement already satisfied: numpy<2.0,>=1.12 in /usr/local/lib/python3.7/dist-packages (from PyPortfolioOpt) (1.21.6)\n",
            "Requirement already satisfied: scipy<2.0,>=1.3 in /usr/local/lib/python3.7/dist-packages (from PyPortfolioOpt) (1.4.1)\n",
            "Requirement already satisfied: pandas>=0.19 in /usr/local/lib/python3.7/dist-packages (from PyPortfolioOpt) (1.3.5)\n",
            "Requirement already satisfied: ecos>=2 in /usr/local/lib/python3.7/dist-packages (from cvxpy<2.0.0,>=1.1.10->PyPortfolioOpt) (2.0.10)\n",
            "Requirement already satisfied: scs>=1.1.6 in /usr/local/lib/python3.7/dist-packages (from cvxpy<2.0.0,>=1.1.10->PyPortfolioOpt) (3.2.0)\n",
            "Requirement already satisfied: osqp>=0.4.1 in /usr/local/lib/python3.7/dist-packages (from cvxpy<2.0.0,>=1.1.10->PyPortfolioOpt) (0.6.2.post0)\n",
            "Requirement already satisfied: qdldl in /usr/local/lib/python3.7/dist-packages (from osqp>=0.4.1->cvxpy<2.0.0,>=1.1.10->PyPortfolioOpt) (0.1.5.post2)\n",
            "Requirement already satisfied: pytz>=2017.3 in /usr/local/lib/python3.7/dist-packages (from pandas>=0.19->PyPortfolioOpt) (2022.1)\n",
            "Requirement already satisfied: python-dateutil>=2.7.3 in /usr/local/lib/python3.7/dist-packages (from pandas>=0.19->PyPortfolioOpt) (2.8.2)\n",
            "Requirement already satisfied: six>=1.5 in /usr/local/lib/python3.7/dist-packages (from python-dateutil>=2.7.3->pandas>=0.19->PyPortfolioOpt) (1.15.0)\n",
            "Installing collected packages: cvxpy, PyPortfolioOpt\n",
            "  Attempting uninstall: cvxpy\n",
            "    Found existing installation: cvxpy 1.0.31\n",
            "    Uninstalling cvxpy-1.0.31:\n",
            "      Successfully uninstalled cvxpy-1.0.31\n",
            "Successfully installed PyPortfolioOpt-1.5.2 cvxpy-1.2.0\n"
          ]
        }
      ],
      "source": [
        "!pip install PyPortfolioOpt"
      ]
    },
    {
      "cell_type": "code",
      "source": [
        "!pip install yfinance"
      ],
      "metadata": {
        "colab": {
          "base_uri": "https://localhost:8080/"
        },
        "id": "IrsPe3142aIc",
        "outputId": "f7f10615-36ae-4988-e6ee-8263b736d935"
      },
      "execution_count": 4,
      "outputs": [
        {
          "output_type": "stream",
          "name": "stdout",
          "text": [
            "Collecting yfinance\n",
            "  Downloading yfinance-0.1.70-py2.py3-none-any.whl (26 kB)\n",
            "Collecting requests>=2.26\n",
            "  Downloading requests-2.27.1-py2.py3-none-any.whl (63 kB)\n",
            "\u001b[K     |████████████████████████████████| 63 kB 1.8 MB/s \n",
            "\u001b[?25hRequirement already satisfied: pandas>=0.24.0 in /usr/local/lib/python3.7/dist-packages (from yfinance) (1.3.5)\n",
            "Collecting lxml>=4.5.1\n",
            "  Downloading lxml-4.8.0-cp37-cp37m-manylinux_2_17_x86_64.manylinux2014_x86_64.manylinux_2_24_x86_64.whl (6.4 MB)\n",
            "\u001b[K     |████████████████████████████████| 6.4 MB 32.4 MB/s \n",
            "\u001b[?25hRequirement already satisfied: numpy>=1.15 in /usr/local/lib/python3.7/dist-packages (from yfinance) (1.21.6)\n",
            "Requirement already satisfied: multitasking>=0.0.7 in /usr/local/lib/python3.7/dist-packages (from yfinance) (0.0.10)\n",
            "Requirement already satisfied: python-dateutil>=2.7.3 in /usr/local/lib/python3.7/dist-packages (from pandas>=0.24.0->yfinance) (2.8.2)\n",
            "Requirement already satisfied: pytz>=2017.3 in /usr/local/lib/python3.7/dist-packages (from pandas>=0.24.0->yfinance) (2022.1)\n",
            "Requirement already satisfied: six>=1.5 in /usr/local/lib/python3.7/dist-packages (from python-dateutil>=2.7.3->pandas>=0.24.0->yfinance) (1.15.0)\n",
            "Requirement already satisfied: charset-normalizer~=2.0.0 in /usr/local/lib/python3.7/dist-packages (from requests>=2.26->yfinance) (2.0.12)\n",
            "Requirement already satisfied: certifi>=2017.4.17 in /usr/local/lib/python3.7/dist-packages (from requests>=2.26->yfinance) (2021.10.8)\n",
            "Requirement already satisfied: urllib3<1.27,>=1.21.1 in /usr/local/lib/python3.7/dist-packages (from requests>=2.26->yfinance) (1.24.3)\n",
            "Requirement already satisfied: idna<4,>=2.5 in /usr/local/lib/python3.7/dist-packages (from requests>=2.26->yfinance) (2.10)\n",
            "Installing collected packages: requests, lxml, yfinance\n",
            "  Attempting uninstall: requests\n",
            "    Found existing installation: requests 2.23.0\n",
            "    Uninstalling requests-2.23.0:\n",
            "      Successfully uninstalled requests-2.23.0\n",
            "  Attempting uninstall: lxml\n",
            "    Found existing installation: lxml 4.2.6\n",
            "    Uninstalling lxml-4.2.6:\n",
            "      Successfully uninstalled lxml-4.2.6\n",
            "\u001b[31mERROR: pip's dependency resolver does not currently take into account all the packages that are installed. This behaviour is the source of the following dependency conflicts.\n",
            "google-colab 1.0.0 requires requests~=2.23.0, but you have requests 2.27.1 which is incompatible.\n",
            "datascience 0.10.6 requires folium==0.2.1, but you have folium 0.8.3 which is incompatible.\u001b[0m\n",
            "Successfully installed lxml-4.8.0 requests-2.27.1 yfinance-0.1.70\n"
          ]
        }
      ]
    },
    {
      "cell_type": "code",
      "source": [
        "import pandas as pd \n",
        "import numpy as np\n",
        "import matplotlib.pyplot as plt\n",
        "from pypfopt import BlackLittermanModel, black_litterman, risk_models, plotting, EfficientFrontier, objective_functions\n",
        "import yfinance as yf"
      ],
      "metadata": {
        "id": "oIu5sdV32chs"
      },
      "execution_count": 5,
      "outputs": []
    },
    {
      "cell_type": "code",
      "source": [
        "#need to pick additional assets\n",
        "\n",
        "tickers = [\"AAPL\", \"MSFT\", \"AMZN\", \"TSLA\", \"GOOGL\", \"JNJ\", \"JPM\", \"XOM\"]\n",
        "\n",
        "ohlc = yf.download(tickers)\n",
        "prices = ohlc[\"Adj Close\"]\n",
        "prices.tail()"
      ],
      "metadata": {
        "colab": {
          "base_uri": "https://localhost:8080/",
          "height": 299
        },
        "id": "kh-yVEZc2c_L",
        "outputId": "59bcab2b-9a32-4667-de84-f9e50e76f9a2"
      },
      "execution_count": 6,
      "outputs": [
        {
          "output_type": "stream",
          "name": "stdout",
          "text": [
            "[*********************100%***********************]  8 of 8 completed\n"
          ]
        },
        {
          "output_type": "execute_result",
          "data": {
            "text/plain": [
              "                  AAPL         AMZN        GOOGL         JNJ         JPM  \\\n",
              "Date                                                                       \n",
              "2022-04-18  165.070007  3055.699951  2553.530029  177.660004  128.460007   \n",
              "2022-04-19  167.399994  3162.310059  2600.179932  183.080002  131.119995   \n",
              "2022-04-20  167.229996  3079.959961  2560.800049  183.889999  131.580002   \n",
              "2022-04-21  166.419998  2965.919922  2496.290039  183.360001  130.559998   \n",
              "2022-04-22  161.789993  2887.000000  2392.709961  181.539993  126.809998   \n",
              "\n",
              "                  MSFT         TSLA        XOM  \n",
              "Date                                            \n",
              "2022-04-18  280.519989  1004.289978  88.550003  \n",
              "2022-04-19  285.299988  1028.150024  87.760002  \n",
              "2022-04-20  286.359985   977.200012  87.959999  \n",
              "2022-04-21  280.809998  1008.780029  87.029999  \n",
              "2022-04-22  274.029999  1005.049988  85.129997  "
            ],
            "text/html": [
              "\n",
              "  <div id=\"df-8a673840-24ba-46a4-8d64-e53111afa307\">\n",
              "    <div class=\"colab-df-container\">\n",
              "      <div>\n",
              "<style scoped>\n",
              "    .dataframe tbody tr th:only-of-type {\n",
              "        vertical-align: middle;\n",
              "    }\n",
              "\n",
              "    .dataframe tbody tr th {\n",
              "        vertical-align: top;\n",
              "    }\n",
              "\n",
              "    .dataframe thead th {\n",
              "        text-align: right;\n",
              "    }\n",
              "</style>\n",
              "<table border=\"1\" class=\"dataframe\">\n",
              "  <thead>\n",
              "    <tr style=\"text-align: right;\">\n",
              "      <th></th>\n",
              "      <th>AAPL</th>\n",
              "      <th>AMZN</th>\n",
              "      <th>GOOGL</th>\n",
              "      <th>JNJ</th>\n",
              "      <th>JPM</th>\n",
              "      <th>MSFT</th>\n",
              "      <th>TSLA</th>\n",
              "      <th>XOM</th>\n",
              "    </tr>\n",
              "    <tr>\n",
              "      <th>Date</th>\n",
              "      <th></th>\n",
              "      <th></th>\n",
              "      <th></th>\n",
              "      <th></th>\n",
              "      <th></th>\n",
              "      <th></th>\n",
              "      <th></th>\n",
              "      <th></th>\n",
              "    </tr>\n",
              "  </thead>\n",
              "  <tbody>\n",
              "    <tr>\n",
              "      <th>2022-04-18</th>\n",
              "      <td>165.070007</td>\n",
              "      <td>3055.699951</td>\n",
              "      <td>2553.530029</td>\n",
              "      <td>177.660004</td>\n",
              "      <td>128.460007</td>\n",
              "      <td>280.519989</td>\n",
              "      <td>1004.289978</td>\n",
              "      <td>88.550003</td>\n",
              "    </tr>\n",
              "    <tr>\n",
              "      <th>2022-04-19</th>\n",
              "      <td>167.399994</td>\n",
              "      <td>3162.310059</td>\n",
              "      <td>2600.179932</td>\n",
              "      <td>183.080002</td>\n",
              "      <td>131.119995</td>\n",
              "      <td>285.299988</td>\n",
              "      <td>1028.150024</td>\n",
              "      <td>87.760002</td>\n",
              "    </tr>\n",
              "    <tr>\n",
              "      <th>2022-04-20</th>\n",
              "      <td>167.229996</td>\n",
              "      <td>3079.959961</td>\n",
              "      <td>2560.800049</td>\n",
              "      <td>183.889999</td>\n",
              "      <td>131.580002</td>\n",
              "      <td>286.359985</td>\n",
              "      <td>977.200012</td>\n",
              "      <td>87.959999</td>\n",
              "    </tr>\n",
              "    <tr>\n",
              "      <th>2022-04-21</th>\n",
              "      <td>166.419998</td>\n",
              "      <td>2965.919922</td>\n",
              "      <td>2496.290039</td>\n",
              "      <td>183.360001</td>\n",
              "      <td>130.559998</td>\n",
              "      <td>280.809998</td>\n",
              "      <td>1008.780029</td>\n",
              "      <td>87.029999</td>\n",
              "    </tr>\n",
              "    <tr>\n",
              "      <th>2022-04-22</th>\n",
              "      <td>161.789993</td>\n",
              "      <td>2887.000000</td>\n",
              "      <td>2392.709961</td>\n",
              "      <td>181.539993</td>\n",
              "      <td>126.809998</td>\n",
              "      <td>274.029999</td>\n",
              "      <td>1005.049988</td>\n",
              "      <td>85.129997</td>\n",
              "    </tr>\n",
              "  </tbody>\n",
              "</table>\n",
              "</div>\n",
              "      <button class=\"colab-df-convert\" onclick=\"convertToInteractive('df-8a673840-24ba-46a4-8d64-e53111afa307')\"\n",
              "              title=\"Convert this dataframe to an interactive table.\"\n",
              "              style=\"display:none;\">\n",
              "        \n",
              "  <svg xmlns=\"http://www.w3.org/2000/svg\" height=\"24px\"viewBox=\"0 0 24 24\"\n",
              "       width=\"24px\">\n",
              "    <path d=\"M0 0h24v24H0V0z\" fill=\"none\"/>\n",
              "    <path d=\"M18.56 5.44l.94 2.06.94-2.06 2.06-.94-2.06-.94-.94-2.06-.94 2.06-2.06.94zm-11 1L8.5 8.5l.94-2.06 2.06-.94-2.06-.94L8.5 2.5l-.94 2.06-2.06.94zm10 10l.94 2.06.94-2.06 2.06-.94-2.06-.94-.94-2.06-.94 2.06-2.06.94z\"/><path d=\"M17.41 7.96l-1.37-1.37c-.4-.4-.92-.59-1.43-.59-.52 0-1.04.2-1.43.59L10.3 9.45l-7.72 7.72c-.78.78-.78 2.05 0 2.83L4 21.41c.39.39.9.59 1.41.59.51 0 1.02-.2 1.41-.59l7.78-7.78 2.81-2.81c.8-.78.8-2.07 0-2.86zM5.41 20L4 18.59l7.72-7.72 1.47 1.35L5.41 20z\"/>\n",
              "  </svg>\n",
              "      </button>\n",
              "      \n",
              "  <style>\n",
              "    .colab-df-container {\n",
              "      display:flex;\n",
              "      flex-wrap:wrap;\n",
              "      gap: 12px;\n",
              "    }\n",
              "\n",
              "    .colab-df-convert {\n",
              "      background-color: #E8F0FE;\n",
              "      border: none;\n",
              "      border-radius: 50%;\n",
              "      cursor: pointer;\n",
              "      display: none;\n",
              "      fill: #1967D2;\n",
              "      height: 32px;\n",
              "      padding: 0 0 0 0;\n",
              "      width: 32px;\n",
              "    }\n",
              "\n",
              "    .colab-df-convert:hover {\n",
              "      background-color: #E2EBFA;\n",
              "      box-shadow: 0px 1px 2px rgba(60, 64, 67, 0.3), 0px 1px 3px 1px rgba(60, 64, 67, 0.15);\n",
              "      fill: #174EA6;\n",
              "    }\n",
              "\n",
              "    [theme=dark] .colab-df-convert {\n",
              "      background-color: #3B4455;\n",
              "      fill: #D2E3FC;\n",
              "    }\n",
              "\n",
              "    [theme=dark] .colab-df-convert:hover {\n",
              "      background-color: #434B5C;\n",
              "      box-shadow: 0px 1px 3px 1px rgba(0, 0, 0, 0.15);\n",
              "      filter: drop-shadow(0px 1px 2px rgba(0, 0, 0, 0.3));\n",
              "      fill: #FFFFFF;\n",
              "    }\n",
              "  </style>\n",
              "\n",
              "      <script>\n",
              "        const buttonEl =\n",
              "          document.querySelector('#df-8a673840-24ba-46a4-8d64-e53111afa307 button.colab-df-convert');\n",
              "        buttonEl.style.display =\n",
              "          google.colab.kernel.accessAllowed ? 'block' : 'none';\n",
              "\n",
              "        async function convertToInteractive(key) {\n",
              "          const element = document.querySelector('#df-8a673840-24ba-46a4-8d64-e53111afa307');\n",
              "          const dataTable =\n",
              "            await google.colab.kernel.invokeFunction('convertToInteractive',\n",
              "                                                     [key], {});\n",
              "          if (!dataTable) return;\n",
              "\n",
              "          const docLinkHtml = 'Like what you see? Visit the ' +\n",
              "            '<a target=\"_blank\" href=https://colab.research.google.com/notebooks/data_table.ipynb>data table notebook</a>'\n",
              "            + ' to learn more about interactive tables.';\n",
              "          element.innerHTML = '';\n",
              "          dataTable['output_type'] = 'display_data';\n",
              "          await google.colab.output.renderOutput(dataTable, element);\n",
              "          const docLink = document.createElement('div');\n",
              "          docLink.innerHTML = docLinkHtml;\n",
              "          element.appendChild(docLink);\n",
              "        }\n",
              "      </script>\n",
              "    </div>\n",
              "  </div>\n",
              "  "
            ]
          },
          "metadata": {},
          "execution_count": 6
        }
      ]
    },
    {
      "cell_type": "code",
      "source": [
        "market_prices = yf.download(\"SPY\")[\"Adj Close\"]\n",
        "market_prices.head()"
      ],
      "metadata": {
        "colab": {
          "base_uri": "https://localhost:8080/"
        },
        "id": "pWI1NpC63sHe",
        "outputId": "a08db4a8-a6b0-4ce1-b026-4fef85591e0b"
      },
      "execution_count": 7,
      "outputs": [
        {
          "output_type": "stream",
          "name": "stdout",
          "text": [
            "\r[*********************100%***********************]  1 of 1 completed\n"
          ]
        },
        {
          "output_type": "execute_result",
          "data": {
            "text/plain": [
              "Date\n",
              "1993-01-29    25.547979\n",
              "1993-02-01    25.729689\n",
              "1993-02-02    25.784197\n",
              "1993-02-03    26.056765\n",
              "1993-02-04    26.165787\n",
              "Name: Adj Close, dtype: float64"
            ]
          },
          "metadata": {},
          "execution_count": 7
        }
      ]
    },
    {
      "cell_type": "code",
      "source": [
        "mcaps = {}\n",
        "for t in tickers:\n",
        "    stock = yf.Ticker(t)\n",
        "    mcaps[t] = stock.info[\"marketCap\"]\n",
        "mcaps"
      ],
      "metadata": {
        "colab": {
          "base_uri": "https://localhost:8080/"
        },
        "id": "kia8Jllc4hSl",
        "outputId": "46e68343-fcc0-42b9-9925-5847cd006390"
      },
      "execution_count": 8,
      "outputs": [
        {
          "output_type": "execute_result",
          "data": {
            "text/plain": [
              "{'AAPL': 2640315678720,\n",
              " 'AMZN': 1468155035648,\n",
              " 'GOOGL': 1581387481088,\n",
              " 'JNJ': 477381197824,\n",
              " 'JPM': 384023789568,\n",
              " 'MSFT': 2054367215616,\n",
              " 'TSLA': 1038729216000,\n",
              " 'XOM': 362711678976}"
            ]
          },
          "metadata": {},
          "execution_count": 8
        }
      ]
    },
    {
      "cell_type": "code",
      "source": [
        "S = risk_models.CovarianceShrinkage(prices).ledoit_wolf()\n",
        "delta = black_litterman.market_implied_risk_aversion(market_prices)\n",
        "delta"
      ],
      "metadata": {
        "colab": {
          "base_uri": "https://localhost:8080/"
        },
        "id": "ug4SZgpC4pjl",
        "outputId": "14ba2df7-8d7b-4829-d279-9d2bcbf549d3"
      },
      "execution_count": 9,
      "outputs": [
        {
          "output_type": "execute_result",
          "data": {
            "text/plain": [
              "2.673456983150675"
            ]
          },
          "metadata": {},
          "execution_count": 9
        }
      ]
    },
    {
      "cell_type": "code",
      "source": [
        "plotting.plot_covariance(S, plot_correlation=True);"
      ],
      "metadata": {
        "colab": {
          "base_uri": "https://localhost:8080/",
          "height": 297
        },
        "id": "R7w2Wd315eh2",
        "outputId": "f1c018a6-0e8f-4981-a204-80e25b3d9555"
      },
      "execution_count": 10,
      "outputs": [
        {
          "output_type": "display_data",
          "data": {
            "text/plain": [
              "<Figure size 432x288 with 2 Axes>"
            ],
            "image/png": "[encoded data removed]"
          },
          "metadata": {
            "needs_background": "light"
          }
        }
      ]
    },
    {
      "cell_type": "code",
      "source": [
        "market_prior = black_litterman.market_implied_prior_returns(mcaps, delta, S)\n",
        "market_prior"
      ],
      "metadata": {
        "colab": {
          "base_uri": "https://localhost:8080/"
        },
        "id": "KWgbn0ss56t9",
        "outputId": "ea87249b-50d5-42d2-acce-9e9c33713288"
      },
      "execution_count": 11,
      "outputs": [
        {
          "output_type": "execute_result",
          "data": {
            "text/plain": [
              "AAPL     0.166943\n",
              "AMZN     0.127281\n",
              "GOOGL    0.061040\n",
              "JNJ      0.056420\n",
              "JPM      0.090581\n",
              "MSFT     0.110264\n",
              "TSLA     0.059669\n",
              "XOM      0.061047\n",
              "dtype: float64"
            ]
          },
          "metadata": {},
          "execution_count": 11
        }
      ]
    },
    {
      "cell_type": "code",
      "source": [
        "viewdict = {\n",
        "    'AAPL': .05,\n",
        "    'AMZN': .05,\n",
        "    'GOOGL': 0,\n",
        "    'JNJ': 0,\n",
        "    'JPM': 0,\n",
        "    'MSFT': .05,\n",
        "    'TSLA': -.1,\n",
        "    'XOM': 0\n",
        "}\n",
        "\n",
        "bl = BlackLittermanModel(S, pi=market_prior, absolute_views=viewdict)"
      ],
      "metadata": {
        "id": "AlxtrO146ep2"
      },
      "execution_count": 19,
      "outputs": []
    },
    {
      "cell_type": "code",
      "source": [
        "confidences = [\n",
        "               .5,\n",
        "               .5,\n",
        "               0,\n",
        "               0,\n",
        "               0,\n",
        "               .5,\n",
        "               1,\n",
        "               0\n",
        "]"
      ],
      "metadata": {
        "id": "vnvm_cVz7I7-"
      },
      "execution_count": 20,
      "outputs": []
    },
    {
      "cell_type": "code",
      "source": [
        "bl = BlackLittermanModel(S, pi=market_prior, absolute_views=viewdict, omega=\"idzorek\", view_confidences=confidences)"
      ],
      "metadata": {
        "id": "mRF7XwEx7JA2"
      },
      "execution_count": 21,
      "outputs": []
    },
    {
      "cell_type": "code",
      "source": [
        "fig, ax = plt.subplots(figsize=(7,7))\n",
        "im = ax.imshow(bl.omega)\n",
        "\n",
        "ax.set_xticks(np.arange(len(bl.tickers)))\n",
        "ax.set_yticks(np.arange(len(bl.tickers)))\n",
        "\n",
        "ax.set_xticklabels(bl.tickers)\n",
        "ax.set_yticklabels(bl.tickers)\n",
        "plt.show()"
      ],
      "metadata": {
        "colab": {
          "base_uri": "https://localhost:8080/",
          "height": 428
        },
        "id": "azYoWDFn7csW",
        "outputId": "42ed3fe4-92a4-4485-e61e-4edbac7c568e"
      },
      "execution_count": 22,
      "outputs": [
        {
          "output_type": "display_data",
          "data": {
            "text/plain": [
              "<Figure size 504x504 with 1 Axes>"
            ],
            "image/png": "[encoded data removed]"
          },
          "metadata": {
            "needs_background": "light"
          }
        }
      ]
    },
    {
      "cell_type": "code",
      "source": [
        "np.diag(bl.omega)"
      ],
      "metadata": {
        "colab": {
          "base_uri": "https://localhost:8080/"
        },
        "id": "K7ig5SCr7cyu",
        "outputId": "676bbbde-113b-4e0a-8c6e-20cb04374270"
      },
      "execution_count": 23,
      "outputs": [
        {
          "output_type": "execute_result",
          "data": {
            "text/plain": [
              "array([6.93716838e-03, 6.84788688e-03, 1.00000000e+06, 1.00000000e+06,\n",
              "       1.00000000e+06, 3.43508272e-03, 0.00000000e+00, 1.00000000e+06])"
            ]
          },
          "metadata": {},
          "execution_count": 23
        }
      ]
    },
    {
      "cell_type": "code",
      "source": [
        "intervals = [\n",
        "    (-.25, 0.25),\n",
        "    (-.25, 0.25),\n",
        "    (-.25, 0.25),\n",
        "    (-.25, 0.25),\n",
        "    (-.25, 0.25),\n",
        "    (-.25, 0.25),\n",
        "    (-.25, 0.25),\n",
        "    (-.25, 0.25)\n",
        "]"
      ],
      "metadata": {
        "id": "P6LkGnSGE8-M"
      },
      "execution_count": 34,
      "outputs": []
    },
    {
      "cell_type": "code",
      "source": [
        "variances = []\n",
        "for lb, ub in intervals:\n",
        "    sigma = (ub - lb)/2\n",
        "    variances.append(sigma ** 2)\n",
        "\n",
        "print(variances)\n",
        "omega = np.diag(variances)"
      ],
      "metadata": {
        "colab": {
          "base_uri": "https://localhost:8080/"
        },
        "id": "Wzg597rCE2u0",
        "outputId": "7683343a-df83-47d8-cc8c-57e98228f2eb"
      },
      "execution_count": 35,
      "outputs": [
        {
          "output_type": "stream",
          "name": "stdout",
          "text": [
            "[0.0625, 0.0625, 0.0625, 0.0625, 0.0625, 0.0625, 0.0625, 0.0625]\n"
          ]
        }
      ]
    },
    {
      "cell_type": "code",
      "source": [
        "bl = BlackLittermanModel(S, pi=\"market\", market_caps=mcaps, risk_aversion=delta,\n",
        "                        absolute_views=viewdict, omega=omega)"
      ],
      "metadata": {
        "id": "U9daudNNFD38"
      },
      "execution_count": 36,
      "outputs": []
    },
    {
      "cell_type": "code",
      "source": [
        "ret_bl = bl.bl_returns()\n",
        "ret_bl"
      ],
      "metadata": {
        "colab": {
          "base_uri": "https://localhost:8080/"
        },
        "id": "tW_cJP7oFIdz",
        "outputId": "f56a2a4b-04e6-4fd6-a8f9-e6edc58cc861"
      },
      "execution_count": 37,
      "outputs": [
        {
          "output_type": "execute_result",
          "data": {
            "text/plain": [
              "AAPL     0.131839\n",
              "AMZN     0.095952\n",
              "GOOGL    0.036342\n",
              "JNJ      0.031521\n",
              "JPM      0.060178\n",
              "MSFT     0.081372\n",
              "TSLA     0.030915\n",
              "XOM      0.035203\n",
              "dtype: float64"
            ]
          },
          "metadata": {},
          "execution_count": 37
        }
      ]
    },
    {
      "cell_type": "code",
      "source": [
        "rets_df = pd.DataFrame([market_prior, ret_bl, pd.Series(viewdict)], \n",
        "             index=[\"Prior\", \"Posterior\", \"Views\"]).T\n",
        "rets_df"
      ],
      "metadata": {
        "colab": {
          "base_uri": "https://localhost:8080/",
          "height": 300
        },
        "id": "yRkUy6rlFdr1",
        "outputId": "c3d4456e-1a40-42da-a325-51399ed7399b"
      },
      "execution_count": 38,
      "outputs": [
        {
          "output_type": "execute_result",
          "data": {
            "text/plain": [
              "          Prior  Posterior  Views\n",
              "AAPL   0.166943   0.131839   0.05\n",
              "AMZN   0.127281   0.095952   0.05\n",
              "GOOGL  0.061040   0.036342   0.00\n",
              "JNJ    0.056420   0.031521   0.00\n",
              "JPM    0.090581   0.060178   0.00\n",
              "MSFT   0.110264   0.081372   0.05\n",
              "TSLA   0.059669   0.030915  -0.10\n",
              "XOM    0.061047   0.035203   0.00"
            ],
            "text/html": [
              "\n",
              "  <div id=\"df-c8180672-3b1b-4c9d-9d5a-6629bc0fc96d\">\n",
              "    <div class=\"colab-df-container\">\n",
              "      <div>\n",
              "<style scoped>\n",
              "    .dataframe tbody tr th:only-of-type {\n",
              "        vertical-align: middle;\n",
              "    }\n",
              "\n",
              "    .dataframe tbody tr th {\n",
              "        vertical-align: top;\n",
              "    }\n",
              "\n",
              "    .dataframe thead th {\n",
              "        text-align: right;\n",
              "    }\n",
              "</style>\n",
              "<table border=\"1\" class=\"dataframe\">\n",
              "  <thead>\n",
              "    <tr style=\"text-align: right;\">\n",
              "      <th></th>\n",
              "      <th>Prior</th>\n",
              "      <th>Posterior</th>\n",
              "      <th>Views</th>\n",
              "    </tr>\n",
              "  </thead>\n",
              "  <tbody>\n",
              "    <tr>\n",
              "      <th>AAPL</th>\n",
              "      <td>0.166943</td>\n",
              "      <td>0.131839</td>\n",
              "      <td>0.05</td>\n",
              "    </tr>\n",
              "    <tr>\n",
              "      <th>AMZN</th>\n",
              "      <td>0.127281</td>\n",
              "      <td>0.095952</td>\n",
              "      <td>0.05</td>\n",
              "    </tr>\n",
              "    <tr>\n",
              "      <th>GOOGL</th>\n",
              "      <td>0.061040</td>\n",
              "      <td>0.036342</td>\n",
              "      <td>0.00</td>\n",
              "    </tr>\n",
              "    <tr>\n",
              "      <th>JNJ</th>\n",
              "      <td>0.056420</td>\n",
              "      <td>0.031521</td>\n",
              "      <td>0.00</td>\n",
              "    </tr>\n",
              "    <tr>\n",
              "      <th>JPM</th>\n",
              "      <td>0.090581</td>\n",
              "      <td>0.060178</td>\n",
              "      <td>0.00</td>\n",
              "    </tr>\n",
              "    <tr>\n",
              "      <th>MSFT</th>\n",
              "      <td>0.110264</td>\n",
              "      <td>0.081372</td>\n",
              "      <td>0.05</td>\n",
              "    </tr>\n",
              "    <tr>\n",
              "      <th>TSLA</th>\n",
              "      <td>0.059669</td>\n",
              "      <td>0.030915</td>\n",
              "      <td>-0.10</td>\n",
              "    </tr>\n",
              "    <tr>\n",
              "      <th>XOM</th>\n",
              "      <td>0.061047</td>\n",
              "      <td>0.035203</td>\n",
              "      <td>0.00</td>\n",
              "    </tr>\n",
              "  </tbody>\n",
              "</table>\n",
              "</div>\n",
              "      <button class=\"colab-df-convert\" onclick=\"convertToInteractive('df-c8180672-3b1b-4c9d-9d5a-6629bc0fc96d')\"\n",
              "              title=\"Convert this dataframe to an interactive table.\"\n",
              "              style=\"display:none;\">\n",
              "        \n",
              "  <svg xmlns=\"http://www.w3.org/2000/svg\" height=\"24px\"viewBox=\"0 0 24 24\"\n",
              "       width=\"24px\">\n",
              "    <path d=\"M0 0h24v24H0V0z\" fill=\"none\"/>\n",
              "    <path d=\"M18.56 5.44l.94 2.06.94-2.06 2.06-.94-2.06-.94-.94-2.06-.94 2.06-2.06.94zm-11 1L8.5 8.5l.94-2.06 2.06-.94-2.06-.94L8.5 2.5l-.94 2.06-2.06.94zm10 10l.94 2.06.94-2.06 2.06-.94-2.06-.94-.94-2.06-.94 2.06-2.06.94z\"/><path d=\"M17.41 7.96l-1.37-1.37c-.4-.4-.92-.59-1.43-.59-.52 0-1.04.2-1.43.59L10.3 9.45l-7.72 7.72c-.78.78-.78 2.05 0 2.83L4 21.41c.39.39.9.59 1.41.59.51 0 1.02-.2 1.41-.59l7.78-7.78 2.81-2.81c.8-.78.8-2.07 0-2.86zM5.41 20L4 18.59l7.72-7.72 1.47 1.35L5.41 20z\"/>\n",
              "  </svg>\n",
              "      </button>\n",
              "      \n",
              "  <style>\n",
              "    .colab-df-container {\n",
              "      display:flex;\n",
              "      flex-wrap:wrap;\n",
              "      gap: 12px;\n",
              "    }\n",
              "\n",
              "    .colab-df-convert {\n",
              "      background-color: #E8F0FE;\n",
              "      border: none;\n",
              "      border-radius: 50%;\n",
              "      cursor: pointer;\n",
              "      display: none;\n",
              "      fill: #1967D2;\n",
              "      height: 32px;\n",
              "      padding: 0 0 0 0;\n",
              "      width: 32px;\n",
              "    }\n",
              "\n",
              "    .colab-df-convert:hover {\n",
              "      background-color: #E2EBFA;\n",
              "      box-shadow: 0px 1px 2px rgba(60, 64, 67, 0.3), 0px 1px 3px 1px rgba(60, 64, 67, 0.15);\n",
              "      fill: #174EA6;\n",
              "    }\n",
              "\n",
              "    [theme=dark] .colab-df-convert {\n",
              "      background-color: #3B4455;\n",
              "      fill: #D2E3FC;\n",
              "    }\n",
              "\n",
              "    [theme=dark] .colab-df-convert:hover {\n",
              "      background-color: #434B5C;\n",
              "      box-shadow: 0px 1px 3px 1px rgba(0, 0, 0, 0.15);\n",
              "      filter: drop-shadow(0px 1px 2px rgba(0, 0, 0, 0.3));\n",
              "      fill: #FFFFFF;\n",
              "    }\n",
              "  </style>\n",
              "\n",
              "      <script>\n",
              "        const buttonEl =\n",
              "          document.querySelector('#df-c8180672-3b1b-4c9d-9d5a-6629bc0fc96d button.colab-df-convert');\n",
              "        buttonEl.style.display =\n",
              "          google.colab.kernel.accessAllowed ? 'block' : 'none';\n",
              "\n",
              "        async function convertToInteractive(key) {\n",
              "          const element = document.querySelector('#df-c8180672-3b1b-4c9d-9d5a-6629bc0fc96d');\n",
              "          const dataTable =\n",
              "            await google.colab.kernel.invokeFunction('convertToInteractive',\n",
              "                                                     [key], {});\n",
              "          if (!dataTable) return;\n",
              "\n",
              "          const docLinkHtml = 'Like what you see? Visit the ' +\n",
              "            '<a target=\"_blank\" href=https://colab.research.google.com/notebooks/data_table.ipynb>data table notebook</a>'\n",
              "            + ' to learn more about interactive tables.';\n",
              "          element.innerHTML = '';\n",
              "          dataTable['output_type'] = 'display_data';\n",
              "          await google.colab.output.renderOutput(dataTable, element);\n",
              "          const docLink = document.createElement('div');\n",
              "          docLink.innerHTML = docLinkHtml;\n",
              "          element.appendChild(docLink);\n",
              "        }\n",
              "      </script>\n",
              "    </div>\n",
              "  </div>\n",
              "  "
            ]
          },
          "metadata": {},
          "execution_count": 38
        }
      ]
    },
    {
      "cell_type": "code",
      "source": [
        "rets_df.plot.bar(figsize=(12,8));"
      ],
      "metadata": {
        "colab": {
          "base_uri": "https://localhost:8080/",
          "height": 509
        },
        "id": "hZGwY9agFf70",
        "outputId": "f2797aed-dc2e-4a63-c33c-a880a8dfba8f"
      },
      "execution_count": 39,
      "outputs": [
        {
          "output_type": "display_data",
          "data": {
            "text/plain": [
              "<Figure size 864x576 with 1 Axes>"
            ],
            "image/png": "[encoded data removed]"
          },
          "metadata": {
            "needs_background": "light"
          }
        }
      ]
    },
    {
      "cell_type": "code",
      "source": [
        "S_bl = bl.bl_cov()\n",
        "plotting.plot_covariance(S_bl);"
      ],
      "metadata": {
        "colab": {
          "base_uri": "https://localhost:8080/",
          "height": 297
        },
        "id": "H0buTri4FmBV",
        "outputId": "7fe89a51-4cad-4267-d22e-2ce5e84c0db3"
      },
      "execution_count": 40,
      "outputs": [
        {
          "output_type": "display_data",
          "data": {
            "text/plain": [
              "<Figure size 432x288 with 2 Axes>"
            ],
            "image/png": "[encoded data removed]"
          },
          "metadata": {
            "needs_background": "light"
          }
        }
      ]
    },
    {
      "cell_type": "code",
      "source": [
        "ef = EfficientFrontier(ret_bl, S_bl)\n",
        "ef.add_objective(objective_functions.L2_reg)\n",
        "ef.max_sharpe()\n",
        "weights = ef.clean_weights()\n",
        "weights"
      ],
      "metadata": {
        "colab": {
          "base_uri": "https://localhost:8080/"
        },
        "id": "hbYRt_HEFj9k",
        "outputId": "569da394-b2eb-446e-bec9-66bb66fea55b"
      },
      "execution_count": 41,
      "outputs": [
        {
          "output_type": "stream",
          "name": "stderr",
          "text": [
            "/usr/local/lib/python3.7/dist-packages/pypfopt/efficient_frontier/efficient_frontier.py:258: UserWarning: max_sharpe transforms the optimization problem so additional objectives may not work as expected.\n",
            "  \"max_sharpe transforms the optimization problem so additional objectives may not work as expected.\"\n"
          ]
        },
        {
          "output_type": "execute_result",
          "data": {
            "text/plain": [
              "OrderedDict([('AAPL', 0.34008),\n",
              "             ('AMZN', 0.22438),\n",
              "             ('GOOGL', 0.04461),\n",
              "             ('JNJ', 0.02713),\n",
              "             ('JPM', 0.11137),\n",
              "             ('MSFT', 0.18609),\n",
              "             ('TSLA', 0.02849),\n",
              "             ('XOM', 0.03784)])"
            ]
          },
          "metadata": {},
          "execution_count": 41
        }
      ]
    },
    {
      "cell_type": "code",
      "source": [
        "pd.Series(weights).plot.pie(figsize=(10,10));"
      ],
      "metadata": {
        "colab": {
          "base_uri": "https://localhost:8080/",
          "height": 575
        },
        "id": "Fr5MM7FrFpyk",
        "outputId": "d263b103-4df2-4e6b-9e79-60321d5d0c64"
      },
      "execution_count": 42,
      "outputs": [
        {
          "output_type": "display_data",
          "data": {
            "text/plain": [
              "<Figure size 720x720 with 1 Axes>"
            ],
            "image/png": "[encoded data removed]"
          },
          "metadata": {}
        }
      ]
    }
  ]
}