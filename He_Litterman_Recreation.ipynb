{
  "nbformat": 4,
  "nbformat_minor": 0,
  "metadata": {
    "colab": {
      "name": "He_Litterman_Recreation.ipynb",
      "provenance": [],
      "collapsed_sections": []
    },
    "kernelspec": {
      "name": "python3",
      "display_name": "Python 3"
    },
    "language_info": {
      "name": "python"
    }
  },
  "cells": [
    {
      "cell_type": "code",
      "execution_count": null,
      "metadata": {
        "colab": {
          "base_uri": "https://localhost:8080/"
        },
        "id": "k3bwyzAh-BhI",
        "outputId": "6472b4e7-7d80-4de4-d832-0203ac4bbdae"
      },
      "outputs": [
        {
          "output_type": "stream",
          "name": "stdout",
          "text": [
            "Requirement already satisfied: PyPortfolioOpt in /usr/local/lib/python3.7/dist-packages (1.5.1)\n",
            "Requirement already satisfied: scipy<2.0,>=1.3 in /usr/local/lib/python3.7/dist-packages (from PyPortfolioOpt) (1.4.1)\n",
            "Requirement already satisfied: pandas>=0.19 in /usr/local/lib/python3.7/dist-packages (from PyPortfolioOpt) (1.3.5)\n",
            "Requirement already satisfied: numpy<2.0,>=1.12 in /usr/local/lib/python3.7/dist-packages (from PyPortfolioOpt) (1.21.5)\n",
            "Requirement already satisfied: cvxpy<2.0.0,>=1.1.10 in /usr/local/lib/python3.7/dist-packages (from PyPortfolioOpt) (1.2.0)\n",
            "Requirement already satisfied: ecos>=2 in /usr/local/lib/python3.7/dist-packages (from cvxpy<2.0.0,>=1.1.10->PyPortfolioOpt) (2.0.10)\n",
            "Requirement already satisfied: scs>=1.1.6 in /usr/local/lib/python3.7/dist-packages (from cvxpy<2.0.0,>=1.1.10->PyPortfolioOpt) (3.2.0)\n",
            "Requirement already satisfied: osqp>=0.4.1 in /usr/local/lib/python3.7/dist-packages (from cvxpy<2.0.0,>=1.1.10->PyPortfolioOpt) (0.6.2.post0)\n",
            "Requirement already satisfied: qdldl in /usr/local/lib/python3.7/dist-packages (from osqp>=0.4.1->cvxpy<2.0.0,>=1.1.10->PyPortfolioOpt) (0.1.5.post0)\n",
            "Requirement already satisfied: python-dateutil>=2.7.3 in /usr/local/lib/python3.7/dist-packages (from pandas>=0.19->PyPortfolioOpt) (2.8.2)\n",
            "Requirement already satisfied: pytz>=2017.3 in /usr/local/lib/python3.7/dist-packages (from pandas>=0.19->PyPortfolioOpt) (2018.9)\n",
            "Requirement already satisfied: six>=1.5 in /usr/local/lib/python3.7/dist-packages (from python-dateutil>=2.7.3->pandas>=0.19->PyPortfolioOpt) (1.15.0)\n"
          ]
        }
      ],
      "source": [
        "!pip install PyPortfolioOpt"
      ]
    },
    {
      "cell_type": "code",
      "source": [
        "import pandas as pd \n",
        "import numpy as np\n",
        "from pypfopt import EfficientFrontier, objective_functions\n",
        "from pypfopt import BlackLittermanModel, black_litterman, risk_models\n"
      ],
      "metadata": {
        "id": "z-86LrgD-rSs"
      },
      "execution_count": null,
      "outputs": []
    },
    {
      "cell_type": "code",
      "source": [
        "countries = ['AU', 'CA', 'FR', 'DE', 'JP', 'UK', 'US']\n",
        "\n",
        "# Table 1 of the He-Litterman paper: Correlation matrix\n",
        "correlation = pd.DataFrame([\n",
        "    [1.000, 0.488, 0.478, 0.515, 0.439, 0.512, 0.491],\n",
        "    [0.488, 1.000, 0.664, 0.655, 0.310, 0.608, 0.779],\n",
        "    [0.478, 0.664, 1.000, 0.861, 0.355, 0.783, 0.668],\n",
        "    [0.515, 0.655, 0.861, 1.000, 0.354, 0.777, 0.653],\n",
        "    [0.439, 0.310, 0.355, 0.354, 1.000, 0.405, 0.306],\n",
        "    [0.512, 0.608, 0.783, 0.777, 0.405, 1.000, 0.652],\n",
        "    [0.491, 0.779, 0.668, 0.653, 0.306, 0.652, 1.000]\n",
        "], index=countries, columns=countries)\n",
        "\n",
        "# Table 2 of the He-Litterman paper: Volatilities\n",
        "volatilities = pd.DataFrame([0.160, 0.203, 0.248, 0.271, 0.210, 0.200, 0.187],\n",
        "                            index=countries, columns=[\"vol\"])\n",
        "\n",
        "covariance = volatilities.dot(volatilities.T)*correlation"
      ],
      "metadata": {
        "id": "GwYRdxS-_HVs"
      },
      "execution_count": null,
      "outputs": []
    },
    {
      "cell_type": "code",
      "source": [
        "from pypfopt.expected_returns import capm_return\n",
        "# Table 2 of the He-Litterman paper: Market-capitalised weights\n",
        "market_weights = pd.DataFrame([0.016, 0.022, 0.052, 0.055, 0.116, 0.124, 0.615],\n",
        "                              index=countries, columns=[\"CapWeight\"])\n",
        "market_weights = np.array(market_weights)\n",
        "pi = 2.5*covariance.dot(market_weights)"
      ],
      "metadata": {
        "id": "Hrkzyfm9_XTE"
      },
      "execution_count": null,
      "outputs": []
    },
    {
      "cell_type": "code",
      "source": [
        "Views = np.array([.05])\n",
        "\n",
        "Picks = np.array([[0, 0, -.295, 1, 0, -.705, 0]])\n",
        "  \n",
        "omega = np.array([[.021]])"
      ],
      "metadata": {
        "id": "zaUwELWQ_eDD"
      },
      "execution_count": null,
      "outputs": []
    },
    {
      "cell_type": "code",
      "source": [
        "b1 = BlackLittermanModel(cov_matrix = covariance, pi = pi, Q = Views, P = Picks)"
      ],
      "metadata": {
        "id": "es2wNGLbJxgH"
      },
      "execution_count": null,
      "outputs": []
    },
    {
      "cell_type": "code",
      "source": [
        "b1.bl_returns()*100"
      ],
      "metadata": {
        "colab": {
          "base_uri": "https://localhost:8080/"
        },
        "id": "KkZhZ-K2M924",
        "outputId": "0a0e1af7-326c-4914-affd-b117792ba3ef"
      },
      "execution_count": null,
      "outputs": [
        {
          "output_type": "execute_result",
          "data": {
            "text/plain": [
              "AU     4.328024\n",
              "CA     7.575662\n",
              "FR     9.287673\n",
              "DE    11.036714\n",
              "JP     4.506164\n",
              "UK     6.952710\n",
              "US     8.069330\n",
              "dtype: float64"
            ]
          },
          "metadata": {},
          "execution_count": 133
        }
      ]
    },
    {
      "cell_type": "code",
      "source": [
        "b1.bl_weights()"
      ],
      "metadata": {
        "colab": {
          "base_uri": "https://localhost:8080/"
        },
        "id": "FcH5ekRHM3gp",
        "outputId": "a29623a8-7c27-4e96-d952-1781468432d6"
      },
      "execution_count": null,
      "outputs": [
        {
          "output_type": "execute_result",
          "data": {
            "text/plain": [
              "OrderedDict([('AU', 0.01599999999999998),\n",
              "             ('CA', 0.021999999999999662),\n",
              "             ('FR', -0.03687296242888358),\n",
              "             ('DE', 0.3562642794199444),\n",
              "             ('JP', 0.11599999999999999),\n",
              "             ('UK', -0.08839131699106079),\n",
              "             ('US', 0.6150000000000003)])"
            ]
          },
          "metadata": {},
          "execution_count": 134
        }
      ]
    },
    {
      "cell_type": "code",
      "source": [
        "b1.portfolio_performance()"
      ],
      "metadata": {
        "colab": {
          "base_uri": "https://localhost:8080/"
        },
        "id": "y6HgHHtpTjpA",
        "outputId": "a3525963-9ed9-4b03-c2c7-0b1b69210e9f"
      },
      "execution_count": null,
      "outputs": [
        {
          "output_type": "execute_result",
          "data": {
            "text/plain": [
              "(0.08696913496354632, 0.19055338875656097, 0.3514455208618823)"
            ]
          },
          "metadata": {},
          "execution_count": 101
        }
      ]
    },
    {
      "cell_type": "code",
      "source": [
        "Views = np.array([.05, .03])\n",
        "\n",
        "Picks = np.array([[0, 0, -.295, 1, 0, -.705, 0],\n",
        "                  [0, 1, 0, 0, 0, 0, -1]])\n",
        "  \n",
        "omega = np.array([[.298,0],[0,.418]])"
      ],
      "metadata": {
        "id": "pA2_4caBCKO1"
      },
      "execution_count": null,
      "outputs": []
    },
    {
      "cell_type": "code",
      "source": [
        "b2 = BlackLittermanModel(cov_matrix = covariance, pi = pi, Q = Views, P = Picks)"
      ],
      "metadata": {
        "id": "kISw2bw5CdSj"
      },
      "execution_count": null,
      "outputs": []
    },
    {
      "cell_type": "code",
      "source": [
        "b2.bl_returns()*100"
      ],
      "metadata": {
        "colab": {
          "base_uri": "https://localhost:8080/"
        },
        "id": "uls6zWvJDVjs",
        "outputId": "5a693508-2dcd-416a-9edd-f88771ec76c0"
      },
      "execution_count": null,
      "outputs": [
        {
          "output_type": "execute_result",
          "data": {
            "text/plain": [
              "AU     4.422145\n",
              "CA     8.729864\n",
              "FR     9.479745\n",
              "DE    11.209947\n",
              "JP     4.616347\n",
              "UK     6.971660\n",
              "US     7.481560\n",
              "dtype: float64"
            ]
          },
          "metadata": {},
          "execution_count": 59
        }
      ]
    },
    {
      "cell_type": "code",
      "source": [
        "b2.bl_weights()"
      ],
      "metadata": {
        "colab": {
          "base_uri": "https://localhost:8080/"
        },
        "id": "bmhvdEOaDcrs",
        "outputId": "688c443d-e601-4b34-8fd5-d2758f14b1be"
      },
      "execution_count": null,
      "outputs": [
        {
          "output_type": "execute_result",
          "data": {
            "text/plain": [
              "OrderedDict([('AU', 0.016000000000000007),\n",
              "             ('CA', 0.4333225263657992),\n",
              "             ('FR', -0.031157204801061628),\n",
              "             ('DE', 0.33688882983410784),\n",
              "             ('JP', 0.11599999999999999),\n",
              "             ('UK', -0.07473162503304619),\n",
              "             ('US', 0.2036774736342007)])"
            ]
          },
          "metadata": {},
          "execution_count": 58
        }
      ]
    }
  ]
}